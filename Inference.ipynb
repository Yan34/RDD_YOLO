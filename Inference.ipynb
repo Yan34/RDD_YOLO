{
 "cells": [
  {
   "cell_type": "code",
   "execution_count": null,
   "metadata": {
    "collapsed": true
   },
   "outputs": [],
   "source": [
    "import os\n",
    "from ultralytics import YOLO\n",
    "import random\n",
    "import cv2\n",
    "import matplotlib.pyplot as plt\n",
    "from PIL import Image"
   ]
  },
  {
   "cell_type": "code",
   "execution_count": null,
   "outputs": [],
   "source": [
    "predict_model = YOLO('./models/RDD.pt')\n",
    "# predict_model = YOLO('./runs/segment/train22/weights/best.pt')"
   ],
   "metadata": {
    "collapsed": false
   }
  },
  {
   "cell_type": "code",
   "execution_count": null,
   "outputs": [],
   "source": [
    "%matplotlib inline\n",
    "\n",
    "test_imgs = os.listdir('./datasets/orig/test/images/')\n",
    "random.shuffle(test_imgs)\n",
    "imgs = test_imgs[:6]\n",
    "# _,axs = plt.subplots(len(imgs),2,figsize=(40,15 * len(imgs)))\n",
    "_,axs = plt.subplots(len(imgs),1,figsize=(40,15 * len(imgs)))\n",
    "for img, ax in zip(imgs, axs):\n",
    "    img_pth = os.path.join(os.path.relpath('./datasets/orig/test/images/'), img)\n",
    "    I = Image.open(img_pth)\n",
    "    res = predict_model.predict(img_pth, iou=0.1)\n",
    "    res0 = res[0]\n",
    "    plotted = res0.plot(labels=True, boxes=False, masks=True, probs=True)\n",
    "    img_pltd = cv2.cvtColor(plotted, cv2.COLOR_BGR2RGB)\n",
    "    # ax[0].imshow(I)\n",
    "    # ax[1].imshow(img_pltd)\n",
    "    ax.imshow(img_pltd)\n",
    "    # plt.sca(ax[1])\n",
    "    plt.sca(ax)\n",
    "plt.tight_layout()\n",
    "plt.show()"
   ],
   "metadata": {
    "collapsed": false
   }
  },
  {
   "cell_type": "markdown",
   "source": [
    "**Проверка на видео**"
   ],
   "metadata": {
    "collapsed": false
   }
  },
  {
   "cell_type": "code",
   "execution_count": null,
   "outputs": [],
   "source": [
    "%matplotlib inline\n",
    "\n",
    "TEST_VIDEO_PTH = os.path.abspath(\"D:\\\\University\\\\АД\\\\Кузьмичи\\\\18 ОП РЗ 18К-01-16 (обратное направление).avi\")\n",
    "cap = cv2.VideoCapture(TEST_VIDEO_PTH)\n",
    "\n",
    "while True:\n",
    "    ret, frame = cap.read()\n",
    "    if ret:\n",
    "        results = predict_model(frame, iou=0.2)\n",
    "        annotated_frame = results[0].plot(labels=True, boxes=True, masks=True, probs=True)\n",
    "        cv2.imshow(\"RDD Inference\", annotated_frame)\n",
    "        if cv2.waitKey(25) & 0xFF == ord('q') or ret==False:\n",
    "            break\n",
    "cap.release()\n",
    "cv2.destroyAllWindows()"
   ],
   "metadata": {
    "collapsed": false
   }
  }
 ],
 "metadata": {
  "kernelspec": {
   "display_name": "Python 3",
   "language": "python",
   "name": "python3"
  },
  "language_info": {
   "codemirror_mode": {
    "name": "ipython",
    "version": 2
   },
   "file_extension": ".py",
   "mimetype": "text/x-python",
   "name": "python",
   "nbconvert_exporter": "python",
   "pygments_lexer": "ipython2",
   "version": "2.7.6"
  }
 },
 "nbformat": 4,
 "nbformat_minor": 0
}
